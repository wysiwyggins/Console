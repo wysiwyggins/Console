{
 "cells": [
  {
   "cell_type": "code",
   "execution_count": 154,
   "metadata": {},
   "outputs": [],
   "source": [
    "import sys\n",
    "import markovify\n",
    "import spacy\n",
    "import random\n"
   ]
  },
  {
   "cell_type": "code",
   "execution_count": 155,
   "metadata": {},
   "outputs": [],
   "source": [
    "# Load the spaCy model for English\n",
    "test_corpus_path = 'corpus/treasure.txt' \n",
    "test_output_file_path = 'output_poem.txt'\n",
    "#test_num_stanzas = 5  \n",
    "nlp = spacy.load(\"en_core_web_sm\")\n",
    "def load_text_from_file(file_path):\n",
    "    try:\n",
    "        with open(file_path, 'r', encoding='utf-8') as file:\n",
    "            return file.read()\n",
    "    except FileNotFoundError:\n",
    "        print(f\"Error: The file {file_path} was not found.\")\n",
    "        sys.exit(1)\n",
    "\n",
    "corpus_text = load_text_from_file(test_corpus_path)\n",
    "\n",
    "# Initialize the Markovify model with the loaded corpus text\n",
    "text_model = markovify.Text(corpus_text)\n"
   ]
  },
  {
   "cell_type": "code",
   "execution_count": 156,
   "metadata": {},
   "outputs": [],
   "source": [
    "def generate_poem_lines(text_model, stanza_length=5, long_line_length=20, short_line_length=10):\n",
    "    poem_lines = []\n",
    "    long_line_index = random.randint(0, stanza_length - 1)  # Randomly choose the long line index\n",
    "    \n",
    "    for i in range(stanza_length):\n",
    "        while True:\n",
    "            # Generate a line\n",
    "            line = text_model.make_sentence(tries=100)\n",
    "            if not line:\n",
    "                continue\n",
    "            \n",
    "            # Analyze the line length in tokens (words)\n",
    "            doc = nlp(line)\n",
    "            if (i == long_line_index and len(doc) >= long_line_length) or (i != long_line_index and len(doc) <= short_line_length):\n",
    "                poem_lines.append(line)\n",
    "                break\n",
    "    \n",
    "    return poem_lines\n"
   ]
  },
  {
   "cell_type": "code",
   "execution_count": 157,
   "metadata": {},
   "outputs": [],
   "source": [
    "def generate_poem_lines_debug(text_model, stanza_length=6, max_words=20, repeatable_line=None):\n",
    "    poem_lines = []\n",
    "    \n",
    "    # Optionally insert a repeatable line if provided\n",
    "    if repeatable_line:\n",
    "        poem_lines.append(repeatable_line)\n",
    "        print(f\"Repeated Line: {repeatable_line}\")  # Debugging print\n",
    "    \n",
    "    for i in range(stanza_length - len(poem_lines)):  # Adjust for already added repeat line\n",
    "        line = text_model.make_short_sentence(100, max_words=max_words, tries=100)\n",
    "        if line:\n",
    "            print(f\"Generated Line: {line}\")  # Debugging print\n",
    "            poem_lines.append(line)\n",
    "        else:\n",
    "            print(\"Failed to generate a line.\")  # Debugging print\n",
    "    \n",
    "    # Determine next repeatable line (if any)\n",
    "    next_repeatable_line = None\n",
    "    for line in poem_lines:\n",
    "        words = line.split()\n",
    "        if 4 <= len(words) <= 5:\n",
    "            next_repeatable_line = line\n",
    "            break  # Choose the first line that meets the criteria\n",
    "    \n",
    "    return poem_lines, next_repeatable_line\n"
   ]
  },
  {
   "cell_type": "code",
   "execution_count": 158,
   "metadata": {},
   "outputs": [],
   "source": [
    "def generate_decreasing_lines(text_model):\n",
    "    initial_line = text_model.make_sentence(tries=100)\n",
    "    if not initial_line:\n",
    "        print(\"Failed to generate an initial long line.\")\n",
    "        return [], []\n",
    "    \n",
    "    lines = [initial_line]  # Store the lines for the decreasing poem\n",
    "    removed_words_all_lines = []  # Store the words removed at each step\n",
    "    \n",
    "    words = initial_line.split()\n",
    "    \n",
    "    while len(words) > 3:\n",
    "        num_words_to_remove = random.randint(2, 3)\n",
    "        if len(words) - num_words_to_remove < 2:\n",
    "            num_words_to_remove = len(words) - 2\n",
    "\n",
    "        words_to_remove = random.sample(words, num_words_to_remove)\n",
    "        removed_words_all_lines.append(words_to_remove)  # Add removed words to the list\n",
    "\n",
    "        for word in words_to_remove:\n",
    "            words.remove(word)\n",
    "        \n",
    "        new_line = ' '.join(words)\n",
    "        lines.append(new_line)\n",
    "    \n",
    "    return lines, removed_words_all_lines\n"
   ]
  },
  {
   "cell_type": "code",
   "execution_count": 159,
   "metadata": {},
   "outputs": [],
   "source": [
    "def reorder_words_with_spacy(words):\n",
    "    # Process the combined text of the words to analyze their part of speech\n",
    "    doc = nlp(\" \".join(words))\n",
    "    # Simple heuristic for sentence-like structure: subject, verb, object, others\n",
    "    pos_order = ['NOUN', 'PRON', 'VERB', 'ADJ', 'ADV', 'DET', 'ADP', 'CONJ', 'PUNCT']\n",
    "    ordered_words = []\n",
    "    used_token_indices = set()\n",
    "\n",
    "    for pos in pos_order:\n",
    "        for token in doc:\n",
    "            if token.pos_ == pos and token.i not in used_token_indices:\n",
    "                ordered_words.append(token.text)\n",
    "                used_token_indices.add(token.i)\n",
    "\n",
    "    # Add any remaining words that were not included by the heuristic\n",
    "    for token in doc:\n",
    "        if token.i not in used_token_indices:\n",
    "            ordered_words.append(token.text)\n",
    "    \n",
    "    return ordered_words"
   ]
  },
  {
   "cell_type": "code",
   "execution_count": 160,
   "metadata": {},
   "outputs": [],
   "source": [
    "def generate_increasing_lines(removed_words_all_lines):\n",
    "    lines = []\n",
    "    current_line_words = []\n",
    "    \n",
    "    for removed_words in reversed(removed_words_all_lines):\n",
    "        # Extend the current line words with the removed words and reorder them\n",
    "        current_line_words.extend(removed_words)\n",
    "        # Randomize the order of the current line words before reordering\n",
    "        random.shuffle(current_line_words)\n",
    "        # Attempt to reorder words to be more sentence-like\n",
    "        ordered_words = reorder_words_with_spacy(current_line_words)\n",
    "        new_line = ' '.join(ordered_words)\n",
    "        lines.append(new_line)\n",
    "    \n",
    "    return lines"
   ]
  },
  {
   "cell_type": "code",
   "execution_count": 161,
   "metadata": {},
   "outputs": [],
   "source": [
    "def main(text_model):\n",
    "    # Generate the first poem with decreasing lines and capture removed words\n",
    "    generate_poem_lines_debug(text_model)\n",
    "\n",
    "    decreasing_lines, removed_words_all_lines = generate_decreasing_lines(text_model)\n",
    "    \n",
    "    # Open the output file\n",
    "    with open('output.txt', 'w', encoding='utf-8') as f:\n",
    "        #f.write(\"Poem with Decreasing Lines:\\n\")\n",
    "        for line in decreasing_lines:\n",
    "            f.write(line + '\\n')\n",
    "        \n",
    "        #f.write(\"\\nPoem with Increasing Lines:\\n\")\n",
    "        # Generate the second poem with increasing lines using the removed words\n",
    "        increasing_lines = generate_increasing_lines(removed_words_all_lines)\n",
    "        for line in increasing_lines:\n",
    "            f.write(line + '\\n')\n"
   ]
  },
  {
   "cell_type": "code",
   "execution_count": 162,
   "metadata": {},
   "outputs": [
    {
     "name": "stdout",
     "output_type": "stream",
     "text": [
      "Generated Line: I Iron ring which does not melt, add to the crane.\n",
      "Generated Line: That this is three feet in length.\n",
      "Generated Line: Even upon such lands, however, he had done it unwillingly.\n",
      "Generated Line: More than one method for treating them.\n",
      "Generated Line: At the season when there is no small mistake.\n",
      "Generated Line: , for the right is granted, the name auripigmentum , and the latter the metals.\n"
     ]
    }
   ],
   "source": [
    "\n",
    "\n",
    "\n",
    "main(text_model)\n"
   ]
  }
 ],
 "metadata": {
  "kernelspec": {
   "display_name": "base",
   "language": "python",
   "name": "python3"
  },
  "language_info": {
   "codemirror_mode": {
    "name": "ipython",
    "version": 3
   },
   "file_extension": ".py",
   "mimetype": "text/x-python",
   "name": "python",
   "nbconvert_exporter": "python",
   "pygments_lexer": "ipython3",
   "version": "3.8.8"
  }
 },
 "nbformat": 4,
 "nbformat_minor": 2
}
